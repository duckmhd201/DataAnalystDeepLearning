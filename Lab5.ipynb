{
  "nbformat": 4,
  "nbformat_minor": 0,
  "metadata": {
    "colab": {
      "name": "Lab5.ipynb",
      "provenance": [],
      "collapsed_sections": [],
      "include_colab_link": true
    },
    "kernelspec": {
      "name": "python3",
      "display_name": "Python 3"
    },
    "language_info": {
      "name": "python"
    }
  },
  "cells": [
    {
      "cell_type": "markdown",
      "metadata": {
        "id": "view-in-github",
        "colab_type": "text"
      },
      "source": [
        "<a href=\"https://colab.research.google.com/github/duckmhd201/DataAnalystDeepLearning/blob/main/Lab5.ipynb\" target=\"_parent\"><img src=\"https://colab.research.google.com/assets/colab-badge.svg\" alt=\"Open In Colab\"/></a>"
      ]
    },
    {
      "cell_type": "markdown",
      "metadata": {
        "id": "NS0q2IV3W_pJ"
      },
      "source": [
        "***Bài Tập***"
      ]
    },
    {
      "cell_type": "markdown",
      "metadata": {
        "id": "uR4ZWyU_PJEh"
      },
      "source": [
        "**1.Mô tả dữ liệu bằng các giá trị số:**"
      ]
    },
    {
      "cell_type": "markdown",
      "metadata": {
        "id": "8F0_F8SbXBZp"
      },
      "source": [
        "Bước 1: Tính các đại lượng thống kê cho hai tập dữ liệu"
      ]
    },
    {
      "cell_type": "code",
      "metadata": {
        "colab": {
          "base_uri": "https://localhost:8080/",
          "height": 415
        },
        "id": "TMwGiWUzXKsp",
        "outputId": "e7cfd13d-fab0-4e1f-92ec-89e70dd47c5e"
      },
      "source": [
        "import pandas as pd\n",
        "dl = pd.read_csv('https://raw.githubusercontent.com/huynhhoc/DataAnalystDeepLearning/main/Data/babies.csv', sep='\\s+')\n",
        "dl"
      ],
      "execution_count": 4,
      "outputs": [
        {
          "output_type": "execute_result",
          "data": {
            "text/html": [
              "<div>\n",
              "<style scoped>\n",
              "    .dataframe tbody tr th:only-of-type {\n",
              "        vertical-align: middle;\n",
              "    }\n",
              "\n",
              "    .dataframe tbody tr th {\n",
              "        vertical-align: top;\n",
              "    }\n",
              "\n",
              "    .dataframe thead th {\n",
              "        text-align: right;\n",
              "    }\n",
              "</style>\n",
              "<table border=\"1\" class=\"dataframe\">\n",
              "  <thead>\n",
              "    <tr style=\"text-align: right;\">\n",
              "      <th></th>\n",
              "      <th>bwt</th>\n",
              "      <th>smoke</th>\n",
              "    </tr>\n",
              "  </thead>\n",
              "  <tbody>\n",
              "    <tr>\n",
              "      <th>0</th>\n",
              "      <td>120</td>\n",
              "      <td>0</td>\n",
              "    </tr>\n",
              "    <tr>\n",
              "      <th>1</th>\n",
              "      <td>113</td>\n",
              "      <td>0</td>\n",
              "    </tr>\n",
              "    <tr>\n",
              "      <th>2</th>\n",
              "      <td>128</td>\n",
              "      <td>1</td>\n",
              "    </tr>\n",
              "    <tr>\n",
              "      <th>3</th>\n",
              "      <td>123</td>\n",
              "      <td>0</td>\n",
              "    </tr>\n",
              "    <tr>\n",
              "      <th>4</th>\n",
              "      <td>108</td>\n",
              "      <td>1</td>\n",
              "    </tr>\n",
              "    <tr>\n",
              "      <th>...</th>\n",
              "      <td>...</td>\n",
              "      <td>...</td>\n",
              "    </tr>\n",
              "    <tr>\n",
              "      <th>1231</th>\n",
              "      <td>113</td>\n",
              "      <td>0</td>\n",
              "    </tr>\n",
              "    <tr>\n",
              "      <th>1232</th>\n",
              "      <td>128</td>\n",
              "      <td>0</td>\n",
              "    </tr>\n",
              "    <tr>\n",
              "      <th>1233</th>\n",
              "      <td>130</td>\n",
              "      <td>1</td>\n",
              "    </tr>\n",
              "    <tr>\n",
              "      <th>1234</th>\n",
              "      <td>125</td>\n",
              "      <td>0</td>\n",
              "    </tr>\n",
              "    <tr>\n",
              "      <th>1235</th>\n",
              "      <td>117</td>\n",
              "      <td>0</td>\n",
              "    </tr>\n",
              "  </tbody>\n",
              "</table>\n",
              "<p>1236 rows × 2 columns</p>\n",
              "</div>"
            ],
            "text/plain": [
              "      bwt  smoke\n",
              "0     120      0\n",
              "1     113      0\n",
              "2     128      1\n",
              "3     123      0\n",
              "4     108      1\n",
              "...   ...    ...\n",
              "1231  113      0\n",
              "1232  128      0\n",
              "1233  130      1\n",
              "1234  125      0\n",
              "1235  117      0\n",
              "\n",
              "[1236 rows x 2 columns]"
            ]
          },
          "metadata": {},
          "execution_count": 4
        }
      ]
    },
    {
      "cell_type": "code",
      "metadata": {
        "id": "5I5albQ7bDpD"
      },
      "source": [
        "dl1 = pd.DataFrame(dl)\n",
        "dlhutthuoc = dl1[dl1['smoke'] == 1]\n",
        "dlkhonghut = dl1[dl1['smoke'] == 0]"
      ],
      "execution_count": 5,
      "outputs": []
    },
    {
      "cell_type": "code",
      "metadata": {
        "id": "_ZIkGJJsAi_j"
      },
      "source": [
        "d = {'TH1: Bà mẹ hút thuốc' : pd.Series([dlhutthuoc['bwt'].count(),dlhutthuoc['bwt'].min(),\n",
        "                        dlhutthuoc['bwt'].max(),dlhutthuoc['bwt'].mean(),\n",
        "                        dlhutthuoc['bwt'].std(),dlhutthuoc['bwt'].var(),\n",
        "                        dlhutthuoc['bwt'].median(),dlhutthuoc['bwt'].quantile(.0),\n",
        "                        dlhutthuoc['bwt'].quantile(.25),dlhutthuoc['bwt'].quantile(.5),\n",
        "                       dlhutthuoc['bwt'].quantile(.75),dlhutthuoc['bwt'].quantile(1),\n",
        "                       dlhutthuoc['bwt'].quantile(.75)-dlhutthuoc['bwt'].quantile(.25),\n",
        "                       dlhutthuoc['bwt'].kurtosis()+2.98,dlhutthuoc['bwt'].skew()],\n",
        "                       index=['Số lượng','Min','Max','Mean','Sd','Var','Median','Quantile 0%',\n",
        "                              'Quantile 25%','Quantile 50%','Quantile 75%','Quantile 100%','IQR',\n",
        "                              'Kurtosis','Skewness']),\n",
        "     'TH2: Bà mẹ không hút thuốc' : pd.Series([dlkhonghut['bwt'].count(),dlkhonghut['bwt'].min(),\n",
        "                        dlkhonghut['bwt'].max(),dlkhonghut['bwt'].mean(),\n",
        "                        dlkhonghut['bwt'].std(),dlkhonghut['bwt'].var(),\n",
        "                        dlkhonghut['bwt'].median(),dlkhonghut['bwt'].quantile(.0),\n",
        "                        dlkhonghut['bwt'].quantile(.25),dlkhonghut['bwt'].quantile(.5),\n",
        "                       dlkhonghut['bwt'].quantile(.75),dlkhonghut['bwt'].quantile(1),\n",
        "                       dlkhonghut['bwt'].quantile(.75)-dlkhonghut['bwt'].quantile(.25),\n",
        "                       dlkhonghut['bwt'].kurtosis()+2.98,dlkhonghut['bwt'].skew()],\n",
        "                       index=['Số lượng','Min','Max','Mean','Sd','Var','Median','Quantile 0%',\n",
        "                              'Quantile 25%','Quantile 50%','Quantile 75%','Quantile 100%','IQR',\n",
        "                              'Kurtosis','Skewness'])}"
      ],
      "execution_count": 6,
      "outputs": []
    },
    {
      "cell_type": "code",
      "metadata": {
        "colab": {
          "base_uri": "https://localhost:8080/",
          "height": 510
        },
        "id": "XITdFcujBQaC",
        "outputId": "fb1dad9b-af01-4dbf-d665-973f2f58f290"
      },
      "source": [
        "dt = pd.DataFrame(d)\n",
        "dt"
      ],
      "execution_count": 7,
      "outputs": [
        {
          "output_type": "execute_result",
          "data": {
            "text/html": [
              "<div>\n",
              "<style scoped>\n",
              "    .dataframe tbody tr th:only-of-type {\n",
              "        vertical-align: middle;\n",
              "    }\n",
              "\n",
              "    .dataframe tbody tr th {\n",
              "        vertical-align: top;\n",
              "    }\n",
              "\n",
              "    .dataframe thead th {\n",
              "        text-align: right;\n",
              "    }\n",
              "</style>\n",
              "<table border=\"1\" class=\"dataframe\">\n",
              "  <thead>\n",
              "    <tr style=\"text-align: right;\">\n",
              "      <th></th>\n",
              "      <th>TH1: Bà mẹ hút thuốc</th>\n",
              "      <th>TH2: Bà mẹ không hút thuốc</th>\n",
              "    </tr>\n",
              "  </thead>\n",
              "  <tbody>\n",
              "    <tr>\n",
              "      <th>Số lượng</th>\n",
              "      <td>484.000000</td>\n",
              "      <td>742.000000</td>\n",
              "    </tr>\n",
              "    <tr>\n",
              "      <th>Min</th>\n",
              "      <td>58.000000</td>\n",
              "      <td>55.000000</td>\n",
              "    </tr>\n",
              "    <tr>\n",
              "      <th>Max</th>\n",
              "      <td>163.000000</td>\n",
              "      <td>176.000000</td>\n",
              "    </tr>\n",
              "    <tr>\n",
              "      <th>Mean</th>\n",
              "      <td>114.109504</td>\n",
              "      <td>123.047170</td>\n",
              "    </tr>\n",
              "    <tr>\n",
              "      <th>Sd</th>\n",
              "      <td>18.098946</td>\n",
              "      <td>17.398689</td>\n",
              "    </tr>\n",
              "    <tr>\n",
              "      <th>Var</th>\n",
              "      <td>327.571835</td>\n",
              "      <td>302.714371</td>\n",
              "    </tr>\n",
              "    <tr>\n",
              "      <th>Median</th>\n",
              "      <td>115.000000</td>\n",
              "      <td>123.000000</td>\n",
              "    </tr>\n",
              "    <tr>\n",
              "      <th>Quantile 0%</th>\n",
              "      <td>58.000000</td>\n",
              "      <td>55.000000</td>\n",
              "    </tr>\n",
              "    <tr>\n",
              "      <th>Quantile 25%</th>\n",
              "      <td>102.000000</td>\n",
              "      <td>113.000000</td>\n",
              "    </tr>\n",
              "    <tr>\n",
              "      <th>Quantile 50%</th>\n",
              "      <td>115.000000</td>\n",
              "      <td>123.000000</td>\n",
              "    </tr>\n",
              "    <tr>\n",
              "      <th>Quantile 75%</th>\n",
              "      <td>126.000000</td>\n",
              "      <td>134.000000</td>\n",
              "    </tr>\n",
              "    <tr>\n",
              "      <th>Quantile 100%</th>\n",
              "      <td>163.000000</td>\n",
              "      <td>176.000000</td>\n",
              "    </tr>\n",
              "    <tr>\n",
              "      <th>IQR</th>\n",
              "      <td>24.000000</td>\n",
              "      <td>21.000000</td>\n",
              "    </tr>\n",
              "    <tr>\n",
              "      <th>Kurtosis</th>\n",
              "      <td>2.980408</td>\n",
              "      <td>4.032213</td>\n",
              "    </tr>\n",
              "    <tr>\n",
              "      <th>Skewness</th>\n",
              "      <td>-0.033700</td>\n",
              "      <td>-0.187363</td>\n",
              "    </tr>\n",
              "  </tbody>\n",
              "</table>\n",
              "</div>"
            ],
            "text/plain": [
              "               TH1: Bà mẹ hút thuốc  TH2: Bà mẹ không hút thuốc\n",
              "Số lượng                 484.000000                  742.000000\n",
              "Min                       58.000000                   55.000000\n",
              "Max                      163.000000                  176.000000\n",
              "Mean                     114.109504                  123.047170\n",
              "Sd                        18.098946                   17.398689\n",
              "Var                      327.571835                  302.714371\n",
              "Median                   115.000000                  123.000000\n",
              "Quantile 0%               58.000000                   55.000000\n",
              "Quantile 25%             102.000000                  113.000000\n",
              "Quantile 50%             115.000000                  123.000000\n",
              "Quantile 75%             126.000000                  134.000000\n",
              "Quantile 100%            163.000000                  176.000000\n",
              "IQR                       24.000000                   21.000000\n",
              "Kurtosis                   2.980408                    4.032213\n",
              "Skewness                  -0.033700                   -0.187363"
            ]
          },
          "metadata": {},
          "execution_count": 7
        }
      ]
    },
    {
      "cell_type": "markdown",
      "metadata": {
        "id": "TiIVzfzlE0GK"
      },
      "source": [
        "**Bước 2**: Phân tích dữ liệu dựa trên các đại lượng vừa tính\n",
        "\n",
        "**1. Xét tập dữ liệu ứng với trường hợp bà mẹ có hút thuốc**\n",
        "\n",
        "**Vị trí tập trung của dữ liệu:** khoảng giá trị : 114-115\n",
        "\n",
        "**Tính biến động của dữ liệu:**\n",
        "\n",
        "**Phương sai (variance):** var=327.571835\n",
        "\n",
        "**Độ lệch chuẩn (standard deviation): sd**= 18.098946\n",
        "\n",
        "**Khoảng giá trị:** min=58, max=163 -> range=105\n",
        "\n",
        "**Nhận xét: Như vậy dữ liệu phân bố gần nhau.**\n",
        "\n",
        "**Hình dạng phân bố của dữ liệu:**\n",
        "\n",
        "**Độ lệch:** Skewness= -0.033700\n",
        "\n",
        "**Độ bè nhọn của đỉnh dữ liệu:** Kurtosis=2.980408\n",
        "\n",
        "**Nhận xét: Như vậy dữ liệu hơi lệch về phía trái, và đỉnh nhọn, hai bên giảm tốc độ vừa phải.**\n",
        "\n",
        "**2.Xét tập dữ liệu ứng với trường hợp bà mẹ không hút thuốc**\n",
        "\n",
        "**Vị trí tập trung của dữ liệu:** khoảng giá trị: 123\n",
        "\n",
        "**Tính biến động của dữ liệu:**\n",
        "\n",
        "**Phương sai (variance):** 302.714371\n",
        "\n",
        "**Độ lệch chuẩn (standard deviation): sd**= 17.398689\n",
        "\n",
        "**Khoảng giá trị:** min= 55, max= 176 ->range = 121\n",
        "\n",
        "**Nhận xét: Như vậy dữ liệu hơi lệch về phía trái, và đỉnh nhọn, hai bên giảm tốc độ vừa phải.**\n",
        "\n",
        "**Hình dạng phân bố của dữ liệu:**\n",
        "\n",
        "**Độ lệch:** Skewness= -0.187363\n",
        "\n",
        "**Độ bè nhọn của đỉnh dữ liệu:** Kurtosis= 4.032213\n",
        "\n",
        "**Nhận xét: Như vậy dữ liệu hơi lệch về phía trái, và đỉnh nhọn, hai bên giảm tốc độ vừa phải.**"
      ]
    },
    {
      "cell_type": "markdown",
      "metadata": {
        "id": "TLKX3gxlJ_km"
      },
      "source": [
        "**Bước 3:**So sánh các giá trị thống kê mô tả của hai tập dữ liệu.\n"
      ]
    },
    {
      "cell_type": "code",
      "metadata": {
        "colab": {
          "base_uri": "https://localhost:8080/",
          "height": 172
        },
        "id": "ixnL6sq5JSV1",
        "outputId": "4d6b06b0-4450-4028-b3a4-a5ad244a9092"
      },
      "source": [
        "data1 =pd.DataFrame({'TH1: Bà mẹ hút thuốc' : pd.Series([dlhutthuoc['bwt'].std(skipna=True),dlhutthuoc['bwt'].var(skipna=True),\n",
        "                                         dlhutthuoc['bwt'].max()-dlhutthuoc['bwt'].min(),\n",
        "                                         dlhutthuoc['bwt'].quantile(.75)-dlhutthuoc['bwt'].quantile(.25)],\n",
        "                                         index=['Sd','Var','Range','IQR']),\n",
        "      'TH2: Bà mẹ không hút thuốc' : pd.Series([dlkhonghut['bwt'].std(skipna=True),dlkhonghut['bwt'].var(skipna=True),\n",
        "                                         dlkhonghut['bwt'].max()-dlkhonghut['bwt'].min(),\n",
        "                                         dlkhonghut['bwt'].quantile(.75)-dlkhonghut['bwt'].quantile(.25)],\n",
        "                                         index=['Sd','Var','Range','IQR'])})\n",
        "data1['Chênh lệch (TH2-TH1)'] = data1['TH2: Bà mẹ không hút thuốc']-data1['TH1: Bà mẹ hút thuốc']\n",
        "data1"
      ],
      "execution_count": 8,
      "outputs": [
        {
          "output_type": "execute_result",
          "data": {
            "text/html": [
              "<div>\n",
              "<style scoped>\n",
              "    .dataframe tbody tr th:only-of-type {\n",
              "        vertical-align: middle;\n",
              "    }\n",
              "\n",
              "    .dataframe tbody tr th {\n",
              "        vertical-align: top;\n",
              "    }\n",
              "\n",
              "    .dataframe thead th {\n",
              "        text-align: right;\n",
              "    }\n",
              "</style>\n",
              "<table border=\"1\" class=\"dataframe\">\n",
              "  <thead>\n",
              "    <tr style=\"text-align: right;\">\n",
              "      <th></th>\n",
              "      <th>TH1: Bà mẹ hút thuốc</th>\n",
              "      <th>TH2: Bà mẹ không hút thuốc</th>\n",
              "      <th>Chênh lệch (TH2-TH1)</th>\n",
              "    </tr>\n",
              "  </thead>\n",
              "  <tbody>\n",
              "    <tr>\n",
              "      <th>Sd</th>\n",
              "      <td>18.098946</td>\n",
              "      <td>17.398689</td>\n",
              "      <td>-0.700257</td>\n",
              "    </tr>\n",
              "    <tr>\n",
              "      <th>Var</th>\n",
              "      <td>327.571835</td>\n",
              "      <td>302.714371</td>\n",
              "      <td>-24.857464</td>\n",
              "    </tr>\n",
              "    <tr>\n",
              "      <th>Range</th>\n",
              "      <td>105.000000</td>\n",
              "      <td>121.000000</td>\n",
              "      <td>16.000000</td>\n",
              "    </tr>\n",
              "    <tr>\n",
              "      <th>IQR</th>\n",
              "      <td>24.000000</td>\n",
              "      <td>21.000000</td>\n",
              "      <td>-3.000000</td>\n",
              "    </tr>\n",
              "  </tbody>\n",
              "</table>\n",
              "</div>"
            ],
            "text/plain": [
              "       TH1: Bà mẹ hút thuốc  TH2: Bà mẹ không hút thuốc  Chênh lệch (TH2-TH1)\n",
              "Sd                18.098946                   17.398689             -0.700257\n",
              "Var              327.571835                  302.714371            -24.857464\n",
              "Range            105.000000                  121.000000             16.000000\n",
              "IQR               24.000000                   21.000000             -3.000000"
            ]
          },
          "metadata": {},
          "execution_count": 8
        }
      ]
    },
    {
      "cell_type": "code",
      "metadata": {
        "colab": {
          "base_uri": "https://localhost:8080/",
          "height": 110
        },
        "id": "UjJrLeiqPFhB",
        "outputId": "ffbc2c46-66da-43ac-b36a-636aa1d97f5c"
      },
      "source": [
        "data2 = pd.DataFrame({'TH1: Bà mẹ hút thuốc' : pd.Series([dlhutthuoc['bwt'].skew(), dlhutthuoc['bwt'].kurtosis()+2.98],\n",
        "                   index = ['Skewness','Kurtosis']),\n",
        "                   'TH2: Bà mẹ không hút thuốc' : pd.Series([dlkhonghut['bwt'].skew(), dlkhonghut['bwt'].kurtosis()+2.98],\n",
        "                   index = ['Skewness','Kurtosis'])})\n",
        "data2['Chênh lệch (TH2-TH1)']=data2['TH2: Bà mẹ không hút thuốc']-data2['TH1: Bà mẹ hút thuốc']\n",
        "data2"
      ],
      "execution_count": 9,
      "outputs": [
        {
          "output_type": "execute_result",
          "data": {
            "text/html": [
              "<div>\n",
              "<style scoped>\n",
              "    .dataframe tbody tr th:only-of-type {\n",
              "        vertical-align: middle;\n",
              "    }\n",
              "\n",
              "    .dataframe tbody tr th {\n",
              "        vertical-align: top;\n",
              "    }\n",
              "\n",
              "    .dataframe thead th {\n",
              "        text-align: right;\n",
              "    }\n",
              "</style>\n",
              "<table border=\"1\" class=\"dataframe\">\n",
              "  <thead>\n",
              "    <tr style=\"text-align: right;\">\n",
              "      <th></th>\n",
              "      <th>TH1: Bà mẹ hút thuốc</th>\n",
              "      <th>TH2: Bà mẹ không hút thuốc</th>\n",
              "      <th>Chênh lệch (TH2-TH1)</th>\n",
              "    </tr>\n",
              "  </thead>\n",
              "  <tbody>\n",
              "    <tr>\n",
              "      <th>Skewness</th>\n",
              "      <td>-0.033700</td>\n",
              "      <td>-0.187363</td>\n",
              "      <td>-0.153664</td>\n",
              "    </tr>\n",
              "    <tr>\n",
              "      <th>Kurtosis</th>\n",
              "      <td>2.980408</td>\n",
              "      <td>4.032213</td>\n",
              "      <td>1.051805</td>\n",
              "    </tr>\n",
              "  </tbody>\n",
              "</table>\n",
              "</div>"
            ],
            "text/plain": [
              "          TH1: Bà mẹ hút thuốc  ...  Chênh lệch (TH2-TH1)\n",
              "Skewness             -0.033700  ...             -0.153664\n",
              "Kurtosis              2.980408  ...              1.051805\n",
              "\n",
              "[2 rows x 3 columns]"
            ]
          },
          "metadata": {},
          "execution_count": 9
        }
      ]
    },
    {
      "cell_type": "markdown",
      "metadata": {
        "id": "YagznDRSPKcR"
      },
      "source": [
        "**Nhận xét:** trường hợp bà mẹ hút thuốc có phân bố dữ liệu nhọn hơn, đối xứng hơn so với trường hợp không hút thuốc. Cả 2 trường hợp đều hơi lệch về trái."
      ]
    },
    {
      "cell_type": "markdown",
      "metadata": {
        "id": "gdG8wkrYPZTx"
      },
      "source": [
        "**2.Biểu diễn hình học của dữ liệu**"
      ]
    },
    {
      "cell_type": "markdown",
      "metadata": {
        "id": "v3uZ35r1PhHR"
      },
      "source": [
        "**1.Dữ liệu cân nặng của trẻ trong trường hợp bà mẹ hút thuốc và bà mẹ không hút thuốc**\n",
        "\n",
        "**Ta sẽ phân tích các biểu đồ:**\n",
        "\n",
        "\n",
        "*   Histogram\n",
        "*   Boxplot\n",
        "\n",
        "a) Histogram trong trường hợp bà mẹ không hút thuốc:\n"
      ]
    },
    {
      "cell_type": "code",
      "metadata": {
        "id": "B_o1NN24WZ4-"
      },
      "source": [
        "import seaborn as sns\n",
        "import matplotlib.pyplot as plt"
      ],
      "execution_count": 10,
      "outputs": []
    },
    {
      "cell_type": "code",
      "metadata": {
        "id": "Pw57O_wVQaR3",
        "colab": {
          "base_uri": "https://localhost:8080/",
          "height": 296
        },
        "outputId": "872e338b-3267-4b41-9aa9-fdcb0264eadb"
      },
      "source": [
        "sns.histplot(data = dlhutthuoc,x = 'bwt',color = 'green',kde = True, bins=12)"
      ],
      "execution_count": 20,
      "outputs": [
        {
          "output_type": "execute_result",
          "data": {
            "text/plain": [
              "<matplotlib.axes._subplots.AxesSubplot at 0x7f438c989f10>"
            ]
          },
          "metadata": {},
          "execution_count": 20
        },
        {
          "output_type": "display_data",
          "data": {
            "image/png": "[encoded data removed]",
            "text/plain": [
              "<Figure size 432x288 with 1 Axes>"
            ]
          },
          "metadata": {
            "needs_background": "light"
          }
        }
      ]
    },
    {
      "cell_type": "markdown",
      "metadata": {
        "id": "gPAznFyJRQqY"
      },
      "source": [
        "**Vị trí tập trung dữ liệu:** khoảng 110\n",
        "\n",
        "**Tính biến động của dữ liệu:** dữ liệu phân bố trong khoảng [50-170]\n",
        "\n",
        "**Tính đối xứng của phân bố dữ liệu:** dữ liệu chỉ có 1 đỉnh. Bắt đầu từ đỉnh, hai bên giảm dần và tốc độ giảm vừa phải.\n",
        "\n",
        "Dữ liệu phân bố gần đối xứng, hơi lệch về phía bên trái. Hai bên đuôi có độ dài vừa phải.\n",
        "\n",
        "**Giá trị ngoại lệ:** không thấy rõ có giá trị ngoại lệ nào đáng kể\n",
        "\n",
        "b) Boxplot:"
      ]
    },
    {
      "cell_type": "code",
      "metadata": {
        "colab": {
          "base_uri": "https://localhost:8080/",
          "height": 269
        },
        "id": "zPpcOJtCSWrA",
        "outputId": "c0580aa0-4b2d-4e3d-9af5-3d4859cdaa5c"
      },
      "source": [
        "sns.boxplot(y=dlhutthuoc['bwt'])"
      ],
      "execution_count": 21,
      "outputs": [
        {
          "output_type": "execute_result",
          "data": {
            "text/plain": [
              "<matplotlib.axes._subplots.AxesSubplot at 0x7f438c8d9cd0>"
            ]
          },
          "metadata": {},
          "execution_count": 21
        },
        {
          "output_type": "display_data",
          "data": {
            "image/png": "[encoded data removed]",
            "text/plain": [
              "<Figure size 432x288 with 1 Axes>"
            ]
          },
          "metadata": {
            "needs_background": "light"
          }
        }
      ]
    },
    {
      "cell_type": "markdown",
      "metadata": {
        "id": "8l099OPMVJa8"
      },
      "source": [
        "**Tính biến động của dữ liệu:** dữ liệu phân bố tập trung trong khoảng  từ [102,126]\n",
        "\n",
        "**Giá trị ngoại lệ:** có một số giá trị ngoại lệ (lớn hơn 162, nhỏ hơn 66) nhưng không nhiều.\n",
        "\n",
        "**2.Dữ liệu cân nặng của trẻ trong trường hợp bà mẹ hút thuốc không hút thuốc**\n",
        "\n",
        "a) Histogram trong trường hợp bà mẹ không hút thuốc:"
      ]
    },
    {
      "cell_type": "code",
      "metadata": {
        "colab": {
          "base_uri": "https://localhost:8080/",
          "height": 296
        },
        "id": "XASjoWkyVw5s",
        "outputId": "c5777065-14af-4722-f8c3-602b4345e5d2"
      },
      "source": [
        "sns.histplot(data = dlkhonghut,x = 'bwt',color = 'green',kde = True, bins=12)"
      ],
      "execution_count": 22,
      "outputs": [
        {
          "output_type": "execute_result",
          "data": {
            "text/plain": [
              "<matplotlib.axes._subplots.AxesSubplot at 0x7f438cc6a510>"
            ]
          },
          "metadata": {},
          "execution_count": 22
        },
        {
          "output_type": "display_data",
          "data": {
            "image/png": "[encoded data removed]",
            "text/plain": [
              "<Figure size 432x288 with 1 Axes>"
            ]
          },
          "metadata": {
            "needs_background": "light"
          }
        }
      ]
    },
    {
      "cell_type": "markdown",
      "metadata": {
        "id": "17_RqnWjV4XL"
      },
      "source": [
        "**Vị trí tập trung dữ liệu:** khoảng 120\n",
        "\n",
        "**Tính biến động của dữ liệu:** dữ liệu phân bố trong khoảng [45-175]\n",
        "\n",
        "**Tính đối xứng của phân bố dữ liệu:** dữ liệu chỉ có 1 đỉnh. Bắt đầu từ đỉnh, hai bên giảm dần và tốc độ giảm vừa phải.\n",
        "\n",
        "Dữ liệu phân bố gần đối xứng, hơi lệch về phía bên phải. Hai bên đuôi có độ dài vừa phải.\n",
        "\n",
        "**Giá trị ngoại lệ:** không thấy rõ có giá trị ngoại lệ nào đáng kể\n",
        "\n",
        "b) Boxplot:"
      ]
    },
    {
      "cell_type": "code",
      "metadata": {
        "colab": {
          "base_uri": "https://localhost:8080/",
          "height": 269
        },
        "id": "GagiA-r3W4Mc",
        "outputId": "2a92523a-42c8-49ab-ee32-8dce78bcafcc"
      },
      "source": [
        "sns.boxplot(y=dlkhonghut['bwt'])"
      ],
      "execution_count": 24,
      "outputs": [
        {
          "output_type": "execute_result",
          "data": {
            "text/plain": [
              "<matplotlib.axes._subplots.AxesSubplot at 0x7f438c8a9390>"
            ]
          },
          "metadata": {},
          "execution_count": 24
        },
        {
          "output_type": "display_data",
          "data": {
            "image/png": "[encoded data removed]",
            "text/plain": [
              "<Figure size 432x288 with 1 Axes>"
            ]
          },
          "metadata": {
            "needs_background": "light"
          }
        }
      ]
    },
    {
      "cell_type": "markdown",
      "metadata": {
        "id": "tEiZ7g9ve59l"
      },
      "source": [
        "**Tính biến động của dữ liệu:** dữ liệu phân bố tập trung trong khoảng  từ [111,131]\n",
        "\n",
        "**Giá trị ngoại lệ:** có một số giá trị ngoại lệ (lớn hơn 162, nhỏ hơn 88) nhưng không nhiều.\n",
        "\n",
        "**So sánh hai tập dữ liệu dựa vào các kiểu biểu diễn hình học:**\n",
        "\n",
        "**a)Histogram**\n",
        "\n",
        "Để so sánh, ta vẽ 2 histogram gần nhau:\n",
        "\n"
      ]
    },
    {
      "cell_type": "code",
      "metadata": {
        "colab": {
          "base_uri": "https://localhost:8080/",
          "height": 385
        },
        "id": "dyyesRtcfoQb",
        "outputId": "cfe8fd07-f4fd-4e8a-cd27-3e1e65a3377a"
      },
      "source": [
        "sns.displot(dl, x=\"bwt\", col=\"smoke\",color = 'green', kde=True,bins=12)"
      ],
      "execution_count": 27,
      "outputs": [
        {
          "output_type": "execute_result",
          "data": {
            "text/plain": [
              "<seaborn.axisgrid.FacetGrid at 0x7f4383e581d0>"
            ]
          },
          "metadata": {},
          "execution_count": 27
        },
        {
          "output_type": "display_data",
          "data": {
            "image/png": "[encoded data removed]",
            "text/plain": [
              "<Figure size 1080x360 with 3 Axes>"
            ]
          },
          "metadata": {
            "needs_background": "light"
          }
        }
      ]
    },
    {
      "cell_type": "markdown",
      "metadata": {
        "id": "ZiMwKyP8wNsV"
      },
      "source": [
        "**Cân nặng của trẻ trong trường hợp bà mẹ không hút thuốc cao hơn so với trường hợp bà mẹ có hút thuốc**\n",
        "\n",
        "**Tính biến thiên của 2 tập dữ liệu:** tương tự nhau\n",
        "\n",
        "**Tính đối xứng của 2 tập dữ liệu:** tương tự nhau\n",
        "\n",
        "**Giá trị ngoại lệ:** cả 2 đều không có giá trị ngoại lệ đáng chú ý\n",
        "\n",
        "**b) Boxplot**"
      ]
    },
    {
      "cell_type": "code",
      "metadata": {
        "colab": {
          "base_uri": "https://localhost:8080/",
          "height": 297
        },
        "id": "NXmC9KgHwqy-",
        "outputId": "5f168b9b-655f-4de3-fb15-90a9b9870ed8"
      },
      "source": [
        "sns.boxplot(data=dl,x=\"smoke\", y=\"bwt\")\n"
      ],
      "execution_count": 29,
      "outputs": [
        {
          "output_type": "execute_result",
          "data": {
            "text/plain": [
              "<matplotlib.axes._subplots.AxesSubplot at 0x7f4383b876d0>"
            ]
          },
          "metadata": {},
          "execution_count": 29
        },
        {
          "output_type": "display_data",
          "data": {
            "image/png": "[encoded data removed]",
            "text/plain": [
              "<Figure size 432x288 with 1 Axes>"
            ]
          },
          "metadata": {
            "needs_background": "light"
          }
        }
      ]
    },
    {
      "cell_type": "markdown",
      "metadata": {
        "id": "rH5M0gTGw85k"
      },
      "source": [
        "**Khác biệt về vị trí:** giá trị trung vị của trường hợp bà mẹ không hút thuốc lớn hơn trường hợp bà mẹ có hút thuốc (123 và 155). (Trường hợp smoke = 9 là trường hợp không biết bà mẹ có hút thuốc hay không, trung vị trong trường hợp này cao hơn so với 2 trường hợp bà mẹ có hút thuốc và không hút thuốc).\n",
        "\n",
        "**Giá trị ngoại lệ:** cả 2 trường hợp đều có giá trị ngoại lệ trên và dưới.Trường hợp không hút thuốc có nhiều giá trị ngoại lệ hơn.\n",
        "\n",
        "Ta dùng thêm đồ thị QQ-plot để phân thích\n",
        "\n",
        "**So sánh QQ-Plot phân bố của 2 tập dữ liệu:**\n"
      ]
    },
    {
      "cell_type": "markdown",
      "metadata": {
        "id": "yn5v_-yr6lrE"
      },
      "source": [
        "QQ-plot trong trường hợp bà mẹ có hút thuốc"
      ]
    },
    {
      "cell_type": "code",
      "metadata": {
        "colab": {
          "base_uri": "https://localhost:8080/",
          "height": 279
        },
        "id": "XwD7gC5QyBhN",
        "outputId": "86540ba2-89b9-41b9-81ed-15a947055b50"
      },
      "source": [
        "import statsmodels.api as sm\n",
        "\n",
        "sm.qqplot(dlhutthuoc['bwt'], line = 's')\n",
        "plt.show()\n",
        "\n"
      ],
      "execution_count": 30,
      "outputs": [
        {
          "output_type": "display_data",
          "data": {
            "image/png": "[encoded data removed]",
            "text/plain": [
              "<Figure size 432x288 with 1 Axes>"
            ]
          },
          "metadata": {
            "needs_background": "light"
          }
        }
      ]
    },
    {
      "cell_type": "markdown",
      "metadata": {
        "id": "GLjkHJvm6dOd"
      },
      "source": [
        "QQ-plot trong trường hợp bà mẹ không hút thuốc"
      ]
    },
    {
      "cell_type": "code",
      "metadata": {
        "colab": {
          "base_uri": "https://localhost:8080/",
          "height": 280
        },
        "id": "N_QHlr6n6u5X",
        "outputId": "d4ae4b24-acd3-4ae3-9fe4-52027cf1d6fa"
      },
      "source": [
        "sm.qqplot(dlkhonghut['bwt'], line = 's')\n",
        "plt.show()"
      ],
      "execution_count": 18,
      "outputs": [
        {
          "output_type": "display_data",
          "data": {
            "image/png": "[encoded data removed]",
            "text/plain": [
              "<Figure size 432x288 with 1 Axes>"
            ]
          },
          "metadata": {
            "needs_background": "light"
          }
        }
      ]
    },
    {
      "cell_type": "markdown",
      "metadata": {
        "id": "OM11hg5I6wl9"
      },
      "source": [
        "**Nhận xét:** 2 trường hợp tương tự nhau"
      ]
    }
  ]
}