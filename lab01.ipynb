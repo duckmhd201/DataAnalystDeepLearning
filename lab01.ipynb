{
  "nbformat": 4,
  "nbformat_minor": 0,
  "metadata": {
    "colab": {
      "name": "Untitled0.ipynb",
      "provenance": [],
      "collapsed_sections": [],
      "authorship_tag": "ABX9TyNPzpbVrsG3LEnx0JeECFHk",
      "include_colab_link": true
    },
    "kernelspec": {
      "name": "python3",
      "display_name": "Python 3"
    },
    "language_info": {
      "name": "python"
    }
  },
  "cells": [
    {
      "cell_type": "markdown",
      "metadata": {
        "id": "view-in-github",
        "colab_type": "text"
      },
      "source": [
        "<a href=\"https://colab.research.google.com/github/duckmhd201/DataAnalystDeepLearning/blob/main/lab01.ipynb\" target=\"_parent\"><img src=\"https://colab.research.google.com/assets/colab-badge.svg\" alt=\"Open In Colab\"/></a>"
      ]
    },
    {
      "cell_type": "code",
      "metadata": {
        "colab": {
          "base_uri": "https://localhost:8080/"
        },
        "id": "19nljFC2Kf4u",
        "outputId": "b4c67cbf-80fe-46b7-93eb-26ffc61d1f34"
      },
      "source": [
        "import pandas as pd\n",
        "s = pd.Series([12,-4,7,9])\n",
        "print (s)"
      ],
      "execution_count": null,
      "outputs": [
        {
          "output_type": "stream",
          "name": "stdout",
          "text": [
            "0    12\n",
            "1    -4\n",
            "2     7\n",
            "3     9\n",
            "dtype: int64\n"
          ]
        }
      ]
    },
    {
      "cell_type": "code",
      "metadata": {
        "colab": {
          "base_uri": "https://localhost:8080/"
        },
        "id": "mwaB9c74VU_F",
        "outputId": "3b7b1b06-dc6a-490f-8a04-8472b0188031"
      },
      "source": [
        "import pandas as pd\n",
        "dulieuxettuyen = pd.read_csv(\"https://raw.githubusercontent.com/huynhhoc/DataAnalystDeepLearning/main/Data/dulieuxettuyendaihoc.csv\")\n",
        "print (dulieuxettuyen.head(10))"
      ],
      "execution_count": 4,
      "outputs": [
        {
          "output_type": "stream",
          "name": "stdout",
          "text": [
            "   STT   T1   L1   H1   S1   V1   X1  ...  GT  DT   KV   DH1   DH2   DH3  KT\n",
            "0    1  7.2  7.3  6.3  7.3  7.0  7.9  ...   F NaN  2NT  3.25  3.25  4.50  A1\n",
            "1    2  5.4  3.9  3.9  4.0  5.4  5.4  ...   M NaN    1  6.00  4.00  3.50   C\n",
            "2    3  5.6  6.8  7.2  7.5  4.3  7.4  ...   M NaN    1  5.00  6.75  4.00   C\n",
            "3    4  6.6  6.4  5.3  6.9  5.4  7.3  ...   M NaN    1  4.25  4.25  5.25  D1\n",
            "4    5  6.0  5.0  6.0  7.3  6.5  7.7  ...   M NaN  2NT  4.25  4.50  5.00   A\n",
            "5    6  9.3  7.6  7.9  8.6  7.0  7.3  ...   M NaN    1  1.50  4.00  6.00  D1\n",
            "6    7  2.8  3.9  5.5  6.9  5.0  7.3  ...   F NaN    2  6.50  6.75  5.25   C\n",
            "7    8  8.3  6.0  7.6  5.1  7.5  4.7  ...   F NaN    2  3.75  4.50  4.25  D1\n",
            "8    9  6.5  6.3  7.6  6.0  5.5  7.1  ...   F NaN    1  3.50  3.50  6.75  D1\n",
            "9   10  7.3  5.9  4.7  7.1  6.7  7.9  ...   F NaN    1  4.00  4.75  5.50  D1\n",
            "\n",
            "[10 rows x 56 columns]\n"
          ]
        }
      ]
    },
    {
      "cell_type": "code",
      "metadata": {
        "colab": {
          "base_uri": "https://localhost:8080/"
        },
        "id": "VeR_oyA4YL_3",
        "outputId": "88ceeb79-78e4-4a50-f791-e6cc85e343a1"
      },
      "source": [
        "import pandas as pd\n",
        "dulieuxettuyen = pd.read_csv(\"https://raw.githubusercontent.com/huynhhoc/DataAnalystDeepLearning/main/Data/dulieuxettuyendaihoc.csv\")\n",
        "print (dulieuxettuyen.tail(10))"
      ],
      "execution_count": null,
      "outputs": [
        {
          "output_type": "stream",
          "name": "stdout",
          "text": [
            "    STT   T1   L1   H1   S1   V1   X1  ...  GT  DT   KV   DH1   DH2   DH3  KT\n",
            "90   91  8.1  7.7  9.1  8.5  6.1  8.6  ...   M NaN    2  6.25  4.00  6.50   A\n",
            "91   92  7.8  6.5  6.7  5.4  6.2  4.8  ...   M NaN  2NT  4.75  4.75  4.50   A\n",
            "92   93  5.0  6.6  6.5  7.2  5.8  6.7  ...   M NaN    1  3.25  5.25  4.25   A\n",
            "93   94  5.2  5.2  6.8  7.9  6.6  8.9  ...   M NaN    1  3.50  4.25  5.00   A\n",
            "94   95  5.8  5.9  7.6  6.1  5.3  8.1  ...   M NaN    1  4.25  2.50  4.75   A\n",
            "95   96  8.6  6.9  7.4  8.8  7.6  5.8  ...   F NaN    1  5.25  1.50  6.25   C\n",
            "96   97  3.7  5.4  6.0  5.1  5.5  3.9  ...   F NaN    1  5.25  3.75  4.75   C\n",
            "97   98  8.8  5.5  7.4  7.7  6.2  7.3  ...   M NaN  2NT  7.00  8.00  4.00   C\n",
            "98   99  2.7  1.8  3.4  5.3  4.5  7.9  ...   M NaN    1  5.00  3.50  5.50   C\n",
            "99  100  4.1  5.2  4.9  5.3  5.5  5.4  ...   M NaN  2NT  5.25  2.50  4.25   C\n",
            "\n",
            "[10 rows x 56 columns]\n"
          ]
        }
      ]
    },
    {
      "cell_type": "code",
      "metadata": {
        "colab": {
          "base_uri": "https://localhost:8080/"
        },
        "id": "-o0YKRxMd-6e",
        "outputId": "a01fface-3a8e-49a3-84dc-affd4fc52b40"
      },
      "source": [
        "newframe = pd.DataFrame(dulieuxettuyen, columns=['DT'])\n",
        "newframe.isnull().sum()"
      ],
      "execution_count": null,
      "outputs": [
        {
          "output_type": "execute_result",
          "data": {
            "text/plain": [
              "DT    97\n",
              "dtype: int64"
            ]
          },
          "metadata": {},
          "execution_count": 20
        }
      ]
    },
    {
      "cell_type": "code",
      "metadata": {
        "colab": {
          "base_uri": "https://localhost:8080/"
        },
        "id": "R1rzZnR0byS4",
        "outputId": "f8bf0672-40aa-4f90-ce84-4efc19773c7e"
      },
      "source": [
        "dulieuxettuyenfilled = dulieuxettuyen.fillna(0)\n",
        "print (dulieuxettuyenfilled)"
      ],
      "execution_count": null,
      "outputs": [
        {
          "output_type": "stream",
          "name": "stdout",
          "text": [
            "    STT   T1   L1   H1   S1   V1   X1  ...  GT   DT   KV   DH1   DH2   DH3  KT\n",
            "0     1  7.2  7.3  6.3  7.3  7.0  7.9  ...   F  0.0  2NT  3.25  3.25  4.50  A1\n",
            "1     2  5.4  3.9  3.9  4.0  5.4  5.4  ...   M  0.0    1  6.00  4.00  3.50   C\n",
            "2     3  5.6  6.8  7.2  7.5  4.3  7.4  ...   M  0.0    1  5.00  6.75  4.00   C\n",
            "3     4  6.6  6.4  5.3  6.9  5.4  7.3  ...   M  0.0    1  4.25  4.25  5.25  D1\n",
            "4     5  6.0  5.0  6.0  7.3  6.5  7.7  ...   M  0.0  2NT  4.25  4.50  5.00   A\n",
            "..  ...  ...  ...  ...  ...  ...  ...  ...  ..  ...  ...   ...   ...   ...  ..\n",
            "95   96  8.6  6.9  7.4  8.8  7.6  5.8  ...   F  0.0    1  5.25  1.50  6.25   C\n",
            "96   97  3.7  5.4  6.0  5.1  5.5  3.9  ...   F  0.0    1  5.25  3.75  4.75   C\n",
            "97   98  8.8  5.5  7.4  7.7  6.2  7.3  ...   M  0.0  2NT  7.00  8.00  4.00   C\n",
            "98   99  2.7  1.8  3.4  5.3  4.5  7.9  ...   M  0.0    1  5.00  3.50  5.50   C\n",
            "99  100  4.1  5.2  4.9  5.3  5.5  5.4  ...   M  0.0  2NT  5.25  2.50  4.25   C\n",
            "\n",
            "[100 rows x 56 columns]\n"
          ]
        }
      ]
    },
    {
      "cell_type": "code",
      "metadata": {
        "colab": {
          "base_uri": "https://localhost:8080/"
        },
        "id": "rjTiFKqu49Vb",
        "outputId": "53cfc1db-005c-49d6-f7b3-f1888c106733"
      },
      "source": [
        "newframe1 = pd.DataFrame(dulieuxettuyen, columns=['T1'])\n",
        "newframe1.isnull().sum()"
      ],
      "execution_count": null,
      "outputs": [
        {
          "output_type": "execute_result",
          "data": {
            "text/plain": [
              "T1    0\n",
              "dtype: int64"
            ]
          },
          "metadata": {},
          "execution_count": 21
        }
      ]
    },
    {
      "cell_type": "code",
      "metadata": {
        "colab": {
          "base_uri": "https://localhost:8080/"
        },
        "id": "dozTVbSS5u77",
        "outputId": "3811b3e5-4d2f-4a09-8658-26a1387d98da"
      },
      "source": [
        "newframe1filled = newframe1.fillna(newframe1.mean())\n",
        "print (dulieuxettuyenfilled)"
      ],
      "execution_count": null,
      "outputs": [
        {
          "output_type": "stream",
          "name": "stdout",
          "text": [
            "    STT   T1   L1   H1   S1   V1   X1  ...  GT   DT   KV   DH1   DH2   DH3  KT\n",
            "0     1  7.2  7.3  6.3  7.3  7.0  7.9  ...   F  0.0  2NT  3.25  3.25  4.50  A1\n",
            "1     2  5.4  3.9  3.9  4.0  5.4  5.4  ...   M  0.0    1  6.00  4.00  3.50   C\n",
            "2     3  5.6  6.8  7.2  7.5  4.3  7.4  ...   M  0.0    1  5.00  6.75  4.00   C\n",
            "3     4  6.6  6.4  5.3  6.9  5.4  7.3  ...   M  0.0    1  4.25  4.25  5.25  D1\n",
            "4     5  6.0  5.0  6.0  7.3  6.5  7.7  ...   M  0.0  2NT  4.25  4.50  5.00   A\n",
            "..  ...  ...  ...  ...  ...  ...  ...  ...  ..  ...  ...   ...   ...   ...  ..\n",
            "95   96  8.6  6.9  7.4  8.8  7.6  5.8  ...   F  0.0    1  5.25  1.50  6.25   C\n",
            "96   97  3.7  5.4  6.0  5.1  5.5  3.9  ...   F  0.0    1  5.25  3.75  4.75   C\n",
            "97   98  8.8  5.5  7.4  7.7  6.2  7.3  ...   M  0.0  2NT  7.00  8.00  4.00   C\n",
            "98   99  2.7  1.8  3.4  5.3  4.5  7.9  ...   M  0.0    1  5.00  3.50  5.50   C\n",
            "99  100  4.1  5.2  4.9  5.3  5.5  5.4  ...   M  0.0  2NT  5.25  2.50  4.25   C\n",
            "\n",
            "[100 rows x 56 columns]\n"
          ]
        }
      ]
    },
    {
      "cell_type": "code",
      "metadata": {
        "colab": {
          "base_uri": "https://localhost:8080/"
        },
        "id": "uxI_uyYbwB42",
        "outputId": "36353274-8de1-4118-9172-a6da7c0824b3"
      },
      "source": [
        "df = pd.DataFrame(dulieuxettuyen)\n",
        "df['TBM1'] = (df['T1']*2 + df['L1'] + df['H1'] + df['S1'] + df['V1']*2 + df['X1'] + df['D1'] +df['N1'])/10\n",
        "df['TBM2'] = (df['T2']*2 + df['L2'] + df['H2'] + df['S2'] + df['V2']*2 + df['X2'] + df['D2'] +df['N2'])/10\n",
        "df['TBM3'] = (df['T6']*2 + df['L6'] + df['H6'] + df['S6'] + df['V6']*2 + df['X6'] + df['D6'] +df['N6'])/10\n",
        "print(dulieuxettuyen)"
      ],
      "execution_count": 17,
      "outputs": [
        {
          "output_type": "stream",
          "name": "stdout",
          "text": [
            "    STT   T1   L1   H1   S1   V1   X1  ...   DH1   DH2   DH3  KT  TBM1  TBM2  TBM3\n",
            "0     1  7.2  7.3  6.3  7.3  7.0  7.9  ...  3.25  3.25  4.50  A1  7.00  7.54  7.01\n",
            "1     2  5.4  3.9  3.9  4.0  5.4  5.4  ...  6.00  4.00  3.50   C  4.69  5.47  5.07\n",
            "2     3  5.6  6.8  7.2  7.5  4.3  7.4  ...  5.00  6.75  4.00   C  5.77  5.38  6.04\n",
            "3     4  6.6  6.4  5.3  6.9  5.4  7.3  ...  4.25  4.25  5.25  D1  6.21  5.20  6.88\n",
            "4     5  6.0  5.0  6.0  7.3  6.5  7.7  ...  4.25  4.50  5.00   A  6.50  6.36  6.99\n",
            "..  ...  ...  ...  ...  ...  ...  ...  ...   ...   ...   ...  ..   ...   ...   ...\n",
            "95   96  8.6  6.9  7.4  8.8  7.6  5.8  ...  5.25  1.50  6.25   C  7.43  7.42  6.83\n",
            "96   97  3.7  5.4  6.0  5.1  5.5  3.9  ...  5.25  3.75  4.75   C  4.93  5.15  6.39\n",
            "97   98  8.8  5.5  7.4  7.7  6.2  7.3  ...  7.00  8.00  4.00   C  7.05  7.84  7.67\n",
            "98   99  2.7  1.8  3.4  5.3  4.5  7.9  ...  5.00  3.50  5.50   C  4.15  4.72  5.29\n",
            "99  100  4.1  5.2  4.9  5.3  5.5  5.4  ...  5.25  2.50  4.25   C  5.26  5.72  5.85\n",
            "\n",
            "[100 rows x 59 columns]\n"
          ]
        }
      ]
    },
    {
      "cell_type": "code",
      "metadata": {
        "colab": {
          "base_uri": "https://localhost:8080/"
        },
        "id": "_0N-jKD67tzC",
        "outputId": "09a8641b-3057-4371-e7e6-7167a897a811"
      },
      "source": [
        "df = pd.DataFrame(dulieuxettuyen)\n",
        "conditions = [\n",
        "    (df['TBM1'] < 5),\n",
        "    (df['TBM1'] >= 5) & (df['TBM1'] < 6.5),\n",
        "    (df['TBM1'] >= 6.5) & (df['TBM1'] < 8),\n",
        "    (df['TBM1'] >= 8) & (df['TBM1'] < 9)\n",
        "]\n",
        "choices = ['Y', 'TB', 'K','G']\n",
        "df['XL1'] = np.select(conditions, choices, default='XS')\n",
        "conditions2 = [\n",
        "    (df['TBM2'] < 5),\n",
        "    (df['TBM2'] >= 5) & (df['TBM2'] < 6.5),\n",
        "    (df['TBM2'] >= 6.5) & (df['TBM2'] < 8),\n",
        "    (df['TBM2'] >= 8) & (df['TBM2'] < 9)\n",
        "]\n",
        "choices2 = ['Y', 'TB', 'K','G']\n",
        "df['XL2'] = np.select(conditions2, choices2, default='XS')\n",
        "conditions3 = [\n",
        "    (df['TBM3'] < 5),\n",
        "    (df['TBM3'] >= 5) & (df['TBM3'] < 6.5),\n",
        "    (df['TBM3'] >= 6.5) & (df['TBM3'] < 8),\n",
        "    (df['TBM3'] >= 8) & (df['TBM3'] < 9)\n",
        "]\n",
        "choices3 = ['Y', 'TB', 'K','G']\n",
        "df['XL3'] = np.select(conditions3, choices3, default='XS')\n",
        "\n",
        "print(df)"
      ],
      "execution_count": 25,
      "outputs": [
        {
          "output_type": "stream",
          "name": "stdout",
          "text": [
            "    STT   T1   L1   H1   S1   V1   X1  ...  KT  TBM1  TBM2  TBM3  XL1  XL2  XL3\n",
            "0     1  7.2  7.3  6.3  7.3  7.0  7.9  ...  A1  7.00  7.54  7.01    K    K    K\n",
            "1     2  5.4  3.9  3.9  4.0  5.4  5.4  ...   C  4.69  5.47  5.07    Y   TB   TB\n",
            "2     3  5.6  6.8  7.2  7.5  4.3  7.4  ...   C  5.77  5.38  6.04   TB   TB   TB\n",
            "3     4  6.6  6.4  5.3  6.9  5.4  7.3  ...  D1  6.21  5.20  6.88   TB   TB    K\n",
            "4     5  6.0  5.0  6.0  7.3  6.5  7.7  ...   A  6.50  6.36  6.99    K   TB    K\n",
            "..  ...  ...  ...  ...  ...  ...  ...  ...  ..   ...   ...   ...  ...  ...  ...\n",
            "95   96  8.6  6.9  7.4  8.8  7.6  5.8  ...   C  7.43  7.42  6.83    K    K    K\n",
            "96   97  3.7  5.4  6.0  5.1  5.5  3.9  ...   C  4.93  5.15  6.39    Y   TB   TB\n",
            "97   98  8.8  5.5  7.4  7.7  6.2  7.3  ...   C  7.05  7.84  7.67    K    K    K\n",
            "98   99  2.7  1.8  3.4  5.3  4.5  7.9  ...   C  4.15  4.72  5.29    Y    Y   TB\n",
            "99  100  4.1  5.2  4.9  5.3  5.5  5.4  ...   C  5.26  5.72  5.85   TB   TB   TB\n",
            "\n",
            "[100 rows x 62 columns]\n"
          ]
        }
      ]
    },
    {
      "cell_type": "code",
      "metadata": {
        "colab": {
          "base_uri": "https://localhost:8080/"
        },
        "id": "iyqU-dYsDP68",
        "outputId": "26c1972c-6e7f-43b1-d013-d664ba3cc250"
      },
      "source": [
        "df['US_TBM1'] = (df['TBM1']/10)*4\n",
        "df['US_TBM2'] = (df['TBM2']/10)*4\n",
        "df['US_TBM3'] = (df['TBM3']/10)*4\n",
        "print(df)"
      ],
      "execution_count": 28,
      "outputs": [
        {
          "output_type": "stream",
          "name": "stdout",
          "text": [
            "    STT   T1   L1   H1   S1   V1  ...  XL1  XL2  XL3  US_TBM1  US_TBM2  US_TBM3\n",
            "0     1  7.2  7.3  6.3  7.3  7.0  ...    K    K    K    2.800    3.016    2.804\n",
            "1     2  5.4  3.9  3.9  4.0  5.4  ...    Y   TB   TB    1.876    2.188    2.028\n",
            "2     3  5.6  6.8  7.2  7.5  4.3  ...   TB   TB   TB    2.308    2.152    2.416\n",
            "3     4  6.6  6.4  5.3  6.9  5.4  ...   TB   TB    K    2.484    2.080    2.752\n",
            "4     5  6.0  5.0  6.0  7.3  6.5  ...    K   TB    K    2.600    2.544    2.796\n",
            "..  ...  ...  ...  ...  ...  ...  ...  ...  ...  ...      ...      ...      ...\n",
            "95   96  8.6  6.9  7.4  8.8  7.6  ...    K    K    K    2.972    2.968    2.732\n",
            "96   97  3.7  5.4  6.0  5.1  5.5  ...    Y   TB   TB    1.972    2.060    2.556\n",
            "97   98  8.8  5.5  7.4  7.7  6.2  ...    K    K    K    2.820    3.136    3.068\n",
            "98   99  2.7  1.8  3.4  5.3  4.5  ...    Y    Y   TB    1.660    1.888    2.116\n",
            "99  100  4.1  5.2  4.9  5.3  5.5  ...   TB   TB   TB    2.104    2.288    2.340\n",
            "\n",
            "[100 rows x 65 columns]\n"
          ]
        }
      ]
    },
    {
      "cell_type": "code",
      "metadata": {
        "colab": {
          "base_uri": "https://localhost:8080/"
        },
        "id": "zqsrSAeyTumh",
        "outputId": "eb6fda3e-ec5e-4aed-9ed2-3ddfd4291e85"
      },
      "source": [
        "DK = [\n",
        "    (df['KT'] == 'A'),\n",
        "    (df['KT'] == 'B'),\n",
        "    (df['KT'] == 'A1')\n",
        "]\n",
        "KQ = [((df['DH1']*2 + df['DH2'] + df['DH3'])/4),((df['DH1'] + df['DH2']*2 + df['DH3'])/4),((df['DH1']*2 + df['DH2'] + df['DH3'])/4)]\n",
        "df['ĐXT']=np.select(DK,KQ,default=(df['DH1'] + df['DH2'] + df['DH3'])/3)\n",
        "DK2 = [\n",
        "    (df['ĐXT'] >= 5)\n",
        "]\n",
        "KQ2 = ['đậu']\n",
        "df['KQST'] = np.select(DK2,KQ2,default=\"rớt\")\n",
        "print(df)"
      ],
      "execution_count": 40,
      "outputs": [
        {
          "output_type": "stream",
          "name": "stdout",
          "text": [
            "    STT   T1   L1   H1   S1   V1  ...  XL3  US_TBM1  US_TBM2  US_TBM3       ĐXT  KQST\n",
            "0     1  7.2  7.3  6.3  7.3  7.0  ...    K    2.800    3.016    2.804  3.562500   rớt\n",
            "1     2  5.4  3.9  3.9  4.0  5.4  ...   TB    1.876    2.188    2.028  4.500000   rớt\n",
            "2     3  5.6  6.8  7.2  7.5  4.3  ...   TB    2.308    2.152    2.416  5.250000   đậu\n",
            "3     4  6.6  6.4  5.3  6.9  5.4  ...    K    2.484    2.080    2.752  4.583333   rớt\n",
            "4     5  6.0  5.0  6.0  7.3  6.5  ...    K    2.600    2.544    2.796  4.500000   rớt\n",
            "..  ...  ...  ...  ...  ...  ...  ...  ...      ...      ...      ...       ...   ...\n",
            "95   96  8.6  6.9  7.4  8.8  7.6  ...    K    2.972    2.968    2.732  4.333333   rớt\n",
            "96   97  3.7  5.4  6.0  5.1  5.5  ...   TB    1.972    2.060    2.556  4.583333   rớt\n",
            "97   98  8.8  5.5  7.4  7.7  6.2  ...    K    2.820    3.136    3.068  6.333333   đậu\n",
            "98   99  2.7  1.8  3.4  5.3  4.5  ...   TB    1.660    1.888    2.116  4.666667   rớt\n",
            "99  100  4.1  5.2  4.9  5.3  5.5  ...   TB    2.104    2.288    2.340  4.000000   rớt\n",
            "\n",
            "[100 rows x 67 columns]\n"
          ]
        }
      ]
    }
  ]
}